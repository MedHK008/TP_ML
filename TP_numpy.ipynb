{
 "cells": [
  {
   "cell_type": "markdown",
   "metadata": {},
   "source": [
    "# TP NUMPY"
   ]
  },
  {
   "cell_type": "code",
   "execution_count": 23,
   "metadata": {},
   "outputs": [],
   "source": [
    "import numpy as np"
   ]
  },
  {
   "cell_type": "markdown",
   "metadata": {},
   "source": [
    "## Question 2"
   ]
  },
  {
   "cell_type": "code",
   "execution_count": 24,
   "metadata": {},
   "outputs": [
    {
     "name": "stdout",
     "output_type": "stream",
     "text": [
      "array1: [ 5 10 15 20 25]\n",
      "array2:\n",
      " [[0. 0. 0. 0.]\n",
      " [0. 0. 0. 0.]\n",
      " [0. 0. 0. 0.]\n",
      " [0. 0. 0. 0.]]\n",
      "array3:\n",
      " [[1. 1.]\n",
      " [1. 1.]\n",
      " [1. 1.]]\n",
      "array4: [ 0  3  6  9 12 15 18]\n"
     ]
    }
   ],
   "source": [
    "array1 = np.array([5, 10, 15, 20, 25])\n",
    "print(\"array1:\", array1)\n",
    "\n",
    "array2 = np.zeros((4, 4))\n",
    "print(\"array2:\\n\", array2)\n",
    "\n",
    "array3 = np.ones((3, 2))\n",
    "print(\"array3:\\n\", array3)\n",
    "\n",
    "array4 = np.arange(0, 20, 3)\n",
    "print(\"array4:\", array4)"
   ]
  },
  {
   "cell_type": "markdown",
   "metadata": {},
   "source": [
    "## Question 3"
   ]
  },
  {
   "cell_type": "code",
   "execution_count": 25,
   "metadata": {},
   "outputs": [
    {
     "name": "stdout",
     "output_type": "stream",
     "text": [
      "array1_reshaped:\n",
      " [[ 5]\n",
      " [10]\n",
      " [15]\n",
      " [20]\n",
      " [25]]\n",
      "array2_flattened: [0. 0. 0. 0. 0. 0. 0. 0. 0. 0. 0. 0. 0. 0. 0. 0.]\n",
      "array_concat: [ 5 10 15 20 25  0  3  6  9 12 15 18]\n"
     ]
    }
   ],
   "source": [
    "array1_reshaped = array1.reshape(5, 1)\n",
    "print(\"array1_reshaped:\\n\", array1_reshaped)\n",
    "\n",
    "array2_flattened = array2.flatten()\n",
    "print(\"array2_flattened:\", array2_flattened)\n",
    "\n",
    "array_concat = np.concatenate((array1, array4))\n",
    "print(\"array_concat:\", array_concat)"
   ]
  },
  {
   "cell_type": "markdown",
   "metadata": {},
   "source": [
    "## Question 4"
   ]
  },
  {
   "cell_type": "code",
   "execution_count": 26,
   "metadata": {},
   "outputs": [
    {
     "name": "stdout",
     "output_type": "stream",
     "text": [
      "Somme array3: 6.0\n",
      "Moyenne array4: 9.0\n",
      "Valeur maximale array1: 25\n",
      "Valeur minimale array4: 0\n",
      "Écart-type array2: 0.0\n"
     ]
    }
   ],
   "source": [
    "sum_array3 = np.sum(array3)\n",
    "print(\"Somme array3:\", sum_array3)\n",
    "\n",
    "mean_array4 = np.mean(array4)\n",
    "print(\"Moyenne array4:\", mean_array4)\n",
    "\n",
    "max_array1 = np.max(array1)\n",
    "print(\"Valeur maximale array1:\", max_array1)\n",
    "\n",
    "min_array4 = np.min(array4)\n",
    "print(\"Valeur minimale array4:\", min_array4)\n",
    "\n",
    "std_array2 = np.std(array2)\n",
    "print(\"Écart-type array2:\", std_array2)"
   ]
  },
  {
   "cell_type": "markdown",
   "metadata": {},
   "source": [
    "## Question 5"
   ]
  },
  {
   "cell_type": "code",
   "execution_count": 27,
   "metadata": {},
   "outputs": [
    {
     "name": "stdout",
     "output_type": "stream",
     "text": [
      "Élément [1, 2] array2: 0.0\n",
      "2ème colonne de array3: [1. 1. 1.]\n",
      "Lignes 1 à 3 de array2:\n",
      " [[0. 0. 0. 0.]\n",
      " [0. 0. 0. 0.]\n",
      " [0. 0. 0. 0.]]\n"
     ]
    }
   ],
   "source": [
    "element = array2[1, 2] \n",
    "print(\"Élément [1, 2] array2:\", element)\n",
    "\n",
    "col2 = array3[:, 1]\n",
    "print(\"2ème colonne de array3:\", col2)\n",
    "\n",
    "rows = array2[1:4, :]\n",
    "print(\"Lignes 1 à 3 de array2:\\n\", rows)"
   ]
  },
  {
   "cell_type": "markdown",
   "metadata": {},
   "source": [
    "## Question 6"
   ]
  },
  {
   "cell_type": "code",
   "execution_count": 28,
   "metadata": {},
   "outputs": [
    {
     "name": "stdout",
     "output_type": "stream",
     "text": [
      "matrix1:\n",
      " [[0.67382956 0.75685565]\n",
      " [0.20903899 0.03976445]]\n",
      "matrix2:\n",
      " [[0.15564971 0.95152185]\n",
      " [0.03306196 0.66253134]]\n",
      "Produit matriciel:\n",
      " [[0.12990451 1.14260413]\n",
      " [0.03385155 0.22525036]]\n",
      "Inverse matrix1:\n",
      " [[-0.30258025  5.75915306]\n",
      " [ 1.59064349 -5.12738134]]\n",
      "Déterminant matrix2: 0.07166363459621264\n"
     ]
    }
   ],
   "source": [
    "matrix1 = np.random.random((2, 2))\n",
    "matrix2 = np.random.random((2, 2))\n",
    "print(\"matrix1:\\n\", matrix1)\n",
    "print(\"matrix2:\\n\", matrix2)\n",
    "\n",
    "matrix_product = np.matmul(matrix1, matrix2)\n",
    "print(\"Produit matriciel:\\n\", matrix_product)\n",
    "\n",
    "matrix1_inverse = np.linalg.inv(matrix1)\n",
    "print(\"Inverse matrix1:\\n\", matrix1_inverse)\n",
    "\n",
    "matrix2_det = np.linalg.det(matrix2)\n",
    "print(\"Déterminant matrix2:\", matrix2_det)"
   ]
  },
  {
   "cell_type": "markdown",
   "metadata": {},
   "source": [
    "## Question 7"
   ]
  },
  {
   "cell_type": "code",
   "execution_count": 29,
   "metadata": {},
   "outputs": [
    {
     "name": "stdout",
     "output_type": "stream",
     "text": [
      "random_array1:\n",
      " [[0.73079734 0.58193141 0.75920257]\n",
      " [0.98231359 0.67761212 0.51938603]\n",
      " [0.19153367 0.82666778 0.08844049]]\n",
      "random_array2:\n",
      " [[0 6]\n",
      " [1 3]]\n"
     ]
    }
   ],
   "source": [
    "random_array1 = np.random.random((3, 3))\n",
    "print(\"random_array1:\\n\", random_array1)\n",
    "\n",
    "random_array2 = np.random.randint(0, 11, (2, 2))\n",
    "print(\"random_array2:\\n\", random_array2)"
   ]
  },
  {
   "cell_type": "markdown",
   "metadata": {},
   "source": [
    "## Question 8"
   ]
  },
  {
   "cell_type": "code",
   "execution_count": 30,
   "metadata": {},
   "outputs": [
    {
     "name": "stdout",
     "output_type": "stream",
     "text": [
      "loaded_array: [ 5 10 15 20 25]\n"
     ]
    }
   ],
   "source": [
    "np.save('array1.npy', array1)\n",
    "\n",
    "loaded_array = np.load('array1.npy')\n",
    "print(\"loaded_array:\", loaded_array)"
   ]
  },
  {
   "cell_type": "markdown",
   "metadata": {},
   "source": [
    "## Question 9"
   ]
  },
  {
   "cell_type": "code",
   "execution_count": 34,
   "metadata": {},
   "outputs": [
    {
     "name": "stdout",
     "output_type": "stream",
     "text": [
      "Mean after normalization: [ 4.77395901e-16  1.23456800e-15  5.86197757e-16 -1.93178806e-16\n",
      " -5.95079541e-16]\n",
      "Std after normalization: [1. 1. 1. 1. 1.]\n",
      "Covariance matrix:\n",
      " [[ 0.07672017 -0.01072052  0.00019208  0.0038929   0.00414168]\n",
      " [-0.01072052  0.08367872  0.00350238 -0.01318844 -0.00994572]\n",
      " [ 0.00019208  0.00350238  0.07891806  0.0034477   0.00131597]\n",
      " [ 0.0038929  -0.01318844  0.0034477   0.08237074 -0.00558261]\n",
      " [ 0.00414168 -0.00994572  0.00131597 -0.00558261  0.08499516]]\n"
     ]
    }
   ],
   "source": [
    "X = np.random.random((100, 5))\n",
    "\n",
    "y = np.random.randint(0, 2, 100)\n",
    "\n",
    "X_normalized = (X - np.mean(X, axis=0)) / np.std(X, axis=0)\n",
    "print(\"Mean after normalization:\", np.mean(X_normalized, axis=0))\n",
    "print(\"Std after normalization:\", np.std(X_normalized, axis=0))\n",
    "\n",
    "cov_matrix = np.cov(X.T)\n",
    "print(\"Covariance matrix:\\n\", cov_matrix)"
   ]
  }
 ],
 "metadata": {
  "kernelspec": {
   "display_name": "base",
   "language": "python",
   "name": "python3"
  },
  "language_info": {
   "codemirror_mode": {
    "name": "ipython",
    "version": 3
   },
   "file_extension": ".py",
   "mimetype": "text/x-python",
   "name": "python",
   "nbconvert_exporter": "python",
   "pygments_lexer": "ipython3",
   "version": "3.12.7"
  }
 },
 "nbformat": 4,
 "nbformat_minor": 2
}
