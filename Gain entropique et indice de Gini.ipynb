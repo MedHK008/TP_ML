{
 "cells": [
  {
   "cell_type": "markdown",
   "id": "c72c8a0a",
   "metadata": {},
   "source": [
    "Dans le cadre d'une étude sur les comportements d'achat, une entreprise cherche à comprendre quels facteurs influencent la décision d'un client d'acheter un produit spécifique. Pour cela, elle a collecté des données sur un échantillon de clients, enregistrant plusieurs attributs pertinents tels que l'âge , le revenu , le statut d'étudiant , et la qualité du crédit . Chaque client est également associé à une variable cible indiquant s'il a acheté le produit (\"Oui\" ) ou non (\"Non\" ).\n",
    "\n",
    "L'objectif principal de cette analyse est de calculer deux métriques clés utilisées dans la construction des arbres de décision :\n",
    "\n",
    "1)<b>Gain Entropique :</b> Mesure la réduction d'incertitude (entropie) apportée par chaque attribut.<br>\n",
    "2)<b>Indice de Gini :</b> Évalue l'impureté des nœuds pour chaque attribut.\n",
    "Ces métriques permettent de sélectionner les attributs les plus informatifs pour effectuer des splits dans un arbre de décision. Bien que cette étude se concentre uniquement sur le calcul du gain entropique et de l'indice de Gini , il est possible d'étendre le problème à d'autres aspects, tels que :\n",
    "\n",
    "1)La construction complète de l'arbre de décision.<br>\n",
    "2)L'évaluation des performances du modèle (précision, rappel, etc.).<br>\n",
    "3)L'interprétation des résultats pour fournir des recommandations commerciales.<br>"
   ]
  },
  {
   "cell_type": "markdown",
   "id": "22619cbc",
   "metadata": {},
   "source": [
    "<b>Description des Données</b>\n",
    "Les données sont structurées sous forme de tableau (DataFrame) avec les colonnes suivantes :\n",
    "\n",
    "-<b>Âge :</b> Représente la tranche d'âge du client (Jeune, Adulte, Senior).<br>\n",
    "-<b>Revenu :</b> Indique le niveau de revenu du client (Faible, Moyen, Elevé).<br>\n",
    "-<b>Étudiant :</b> Statut d'étudiant du client (Oui, Non).<br>\n",
    "-<b>Crédit :</b> Qualité du crédit du client (Bon, Excellent).<br>\n",
    "-<b>Acheter :</b> Variable cible indiquant si le client a acheté le produit (Oui, Non).<br>\n",
    "\n",
    "Ces données permettent d'analyser comment les différents attributs influencent la décision d'achat et de sélectionner les attributs les plus informatifs pour les calculs."
   ]
  },
  {
   "cell_type": "code",
   "execution_count": 1,
   "id": "cba54e7b",
   "metadata": {},
   "outputs": [],
   "source": [
    "# Initialisation du dictionnaire\n",
    "data = {\n",
    "    \"Age\": [\"Jeune\", \"Jeune\", \"Jeune\", \"Jeune\", \"Adulte\", \"Adulte\", \"Adulte\", \"Senior\", \"Senior\", \"Senior\"],\n",
    "    \"Revenu\": [\"Moyen\", \"Moyen\", \"Faible\", \"Elevé\", \"Elevé\", \"Faible\", \"Moyen\", \"Moyen\", \"Elevé\", \"Moyen\"],\n",
    "    \"Etudiant\": [\"Oui\", \"Oui\", \"Non\", \"Non\", \"Non\", \"Non\", \"Oui\", \"Oui\", \"Non\", \"Non\"],\n",
    "    \"Credit\": [\"Bon\", \"Excellent\", \"Bon\", \"Excellent\", \"Excellent\", \"Bon\", \"Bon\", \"Bon\", \"Excellent\", \"Excellent\"],\n",
    "    \"Acheter\": [\"Oui\", \"Oui\", \"Non\", \"Non\", \"Non\", \"Non\", \"Oui\", \"Oui\", \"Oui\", \"Oui\"]\n",
    "}"
   ]
  },
  {
   "cell_type": "code",
   "execution_count": null,
   "id": "ab275152",
   "metadata": {},
   "outputs": [
    {
     "name": "stdout",
     "output_type": "stream",
     "text": [
      "      Age  Revenu Etudiant     Credit Acheter\n",
      "0   Jeune   Moyen      Oui        Bon     Oui\n",
      "1   Jeune   Moyen      Oui  Excellent     Oui\n",
      "2   Jeune  Faible      Non        Bon     Non\n",
      "3   Jeune   Elevé      Non  Excellent     Non\n",
      "4  Adulte   Elevé      Non  Excellent     Non\n",
      "5  Adulte  Faible      Non        Bon     Non\n",
      "6  Adulte   Moyen      Oui        Bon     Oui\n",
      "7  Senior   Moyen      Oui        Bon     Oui\n",
      "8  Senior   Elevé      Non  Excellent     Oui\n",
      "9  Senior   Moyen      Non  Excellent     Oui\n"
     ]
    }
   ],
   "source": [
    "# Importez les modules : pandas et numpy et créez un DataFrame df à partir du dictionnaire \"data\"  ?\n",
    "import pandas as pd\n",
    "import numpy as np  \n",
    "from sklearn.preprocessing import LabelEncoder\n",
    "\n",
    "df = pd.DataFrame(data)\n",
    "print(df)"
   ]
  },
  {
   "cell_type": "code",
   "execution_count": null,
   "id": "ed9bbfd3",
   "metadata": {},
   "outputs": [
    {
     "name": "stdout",
     "output_type": "stream",
     "text": [
      "[['Jeune' 'Moyen' 'Oui' 'Bon']\n",
      " ['Jeune' 'Moyen' 'Oui' 'Excellent']\n",
      " ['Jeune' 'Faible' 'Non' 'Bon']\n",
      " ['Jeune' 'Elevé' 'Non' 'Excellent']\n",
      " ['Adulte' 'Elevé' 'Non' 'Excellent']\n",
      " ['Adulte' 'Faible' 'Non' 'Bon']\n",
      " ['Adulte' 'Moyen' 'Oui' 'Bon']\n",
      " ['Senior' 'Moyen' 'Oui' 'Bon']\n",
      " ['Senior' 'Elevé' 'Non' 'Excellent']\n",
      " ['Senior' 'Moyen' 'Non' 'Excellent']]\n"
     ]
    }
   ],
   "source": [
    "# À partir du jeu de données, extrayez la matrice des caractéristiques X \n",
    "# en sélectionnant les colonnes suivantes : Age, Revenu, Etudiant et Credit.\n",
    "X = df.iloc[:, :-1].values\n",
    "print(X)"
   ]
  },
  {
   "cell_type": "code",
   "execution_count": null,
   "id": "0cf4f84d",
   "metadata": {},
   "outputs": [
    {
     "name": "stdout",
     "output_type": "stream",
     "text": [
      "[1 1 0 0 0 0 1 1 1 1]\n"
     ]
    }
   ],
   "source": [
    "# À partir de la colonne 'Acheter', créez un vecteur y en convertissant les valeurs 'Oui' en 1 et 'Non' en 0.\n",
    "labelencoder_y = LabelEncoder()\n",
    "y = labelencoder_y.fit_transform(df.iloc[:, -1])\n",
    "print(y)"
   ]
  },
  {
   "cell_type": "code",
   "execution_count": null,
   "id": "b5a7a9b4",
   "metadata": {},
   "outputs": [
    {
     "name": "stdout",
     "output_type": "stream",
     "text": [
      "0.9709505944546686\n"
     ]
    }
   ],
   "source": [
    "# Implémentez une fonction nommée EntropieInitiale(labels) qui calcule l'entropie initiale à partir \n",
    "# de la distribution des classes dans le vecteur y.\n",
    "\n",
    "def EntropieInitiale(labels):\n",
    "    _, counts = np.unique(labels, return_counts=True)\n",
    "    probs = counts / len(labels)\n",
    "    return - np.sum(probs * np.log2(probs))\n",
    "\n",
    "IS = EntropieInitiale(y)   #Affiche 0.971\n",
    "print(IS)"
   ]
  },
  {
   "cell_type": "code",
   "execution_count": 7,
   "id": "d55f292a",
   "metadata": {},
   "outputs": [
    {
     "name": "stdout",
     "output_type": "stream",
     "text": [
      "0.9182958340544896\n"
     ]
    }
   ],
   "source": [
    "# Implémentez une fonction nommée Entropie_attribut_valeur qui calcule l'entropie \n",
    "# pour un attribut spécifique de la matrice X, en se basant sur une valeur donnée de cet attribut.\n",
    "\n",
    "def Entropie_attribut_valeur(X, attribut, valeur):\n",
    "    idx = df.columns.get_loc(attribut)\n",
    "    mask = X[:, idx] == valeur\n",
    "    return EntropieInitiale(y[mask])\n",
    "\n",
    "IS_Age_Adulte = Entropie_attribut_valeur(X, \"Age\", \"Adulte\")   # Affiche  0.918\n",
    "print(IS_Age_Adulte)\n"
   ]
  },
  {
   "cell_type": "code",
   "execution_count": 8,
   "id": "2ac0326b",
   "metadata": {},
   "outputs": [
    {
     "name": "stdout",
     "output_type": "stream",
     "text": [
      "Entropie(Age=Adulte) = 0.9182958340544896\n",
      "Entropie(Age=Jeune) = 1.0\n",
      "Entropie(Age=Senior) = -0.0\n",
      "Entropie(Revenu=Elevé) = 0.9182958340544896\n",
      "Entropie(Revenu=Faible) = -0.0\n",
      "Entropie(Revenu=Moyen) = -0.0\n"
     ]
    }
   ],
   "source": [
    "# Calculez et affichez les entropies de toutes les valeurs possibles pour les attributs 'Age' et 'Revenu' \n",
    "# en utilisant la fonction Entropie_attribut_valeur\n",
    "\n",
    "for attribut in [\"Age\", \"Revenu\"]:\n",
    "    idx = df.columns.get_loc(attribut)\n",
    "    for valeur in np.unique(X[:, idx]):\n",
    "        print(f\"Entropie({attribut}={valeur}) = {Entropie_attribut_valeur(X, attribut, valeur)}\")\n",
    "        "
   ]
  },
  {
   "cell_type": "code",
   "execution_count": 9,
   "id": "f614a968",
   "metadata": {},
   "outputs": [
    {
     "name": "stdout",
     "output_type": "stream",
     "text": [
      "0.2954618442383218\n"
     ]
    }
   ],
   "source": [
    "# Implémentez une fonction GainEntropique(X,y, attribut)  qui calcule le gain entropique pour un attribut\n",
    "# spécifique en utilisant la fonction Entropie_attribut_valeur et l'entropie initiale\n",
    "\n",
    "def GainEntropique(X,y, attribut):\n",
    "    idx = df.columns.get_loc(attribut)\n",
    "    gain = IS\n",
    "    for valeur in np.unique(X[:, idx]):\n",
    "        mask = X[:, idx] == valeur\n",
    "        gain -= np.sum(mask) / len(y) * EntropieInitiale(y[mask])\n",
    "    return gain\n",
    "\n",
    "Gain_Age =  GainEntropique(X,y,\"Age\")   # affiche 0.296\n",
    "print(Gain_Age)\n"
   ]
  },
  {
   "cell_type": "code",
   "execution_count": 10,
   "id": "36183042",
   "metadata": {},
   "outputs": [
    {
     "name": "stdout",
     "output_type": "stream",
     "text": [
      "Gain(Age) = 0.2954618442383218\n",
      "Gain(Revenu) = 0.6954618442383218\n",
      "Gain(Etudiant) = 0.4199730940219749\n",
      "Gain(Credit) = 0.0\n"
     ]
    }
   ],
   "source": [
    "# Appliquez la fonction GainEntropique pour calculer et afficher le gain entropique de chaque attribut du jeu de données.\n",
    "for attribut in df.columns[:-1]:\n",
    "    print(f\"Gain({attribut}) = {GainEntropique(X, y, attribut)}\")"
   ]
  },
  {
   "cell_type": "code",
   "execution_count": 15,
   "id": "c7a4debd",
   "metadata": {},
   "outputs": [],
   "source": [
    "############################# Indice de Gini ####################################"
   ]
  },
  {
   "cell_type": "code",
   "execution_count": 12,
   "id": "5ecae9f1",
   "metadata": {},
   "outputs": [
    {
     "name": "stdout",
     "output_type": "stream",
     "text": [
      "0.4444444444444444\n"
     ]
    }
   ],
   "source": [
    "#  Implémentez une fonction Gini_attribut_valeur(X, attribut, valeur) qui calcule l'indice de Gini \n",
    "#  pour un attribut spécifique de la matrice X, en se basant sur une valeur donnée de cet attribut.\n",
    "def Gini_attribut_valeur(X, attribut, valeur):\n",
    "    idx = df.columns.get_loc(attribut)\n",
    "    mask = X[:, idx] == valeur\n",
    "    _, counts = np.unique(y[mask], return_counts=True)\n",
    "    probs = counts / counts.sum()\n",
    "    return 1 - np.sum(probs**2)\n",
    "\n",
    "print(Gini_attribut_valeur(X, \"Age\", \"Adulte\"))  # Affiche 0.444"
   ]
  },
  {
   "cell_type": "code",
   "execution_count": 13,
   "id": "aaeb3a8d",
   "metadata": {},
   "outputs": [
    {
     "name": "stdout",
     "output_type": "stream",
     "text": [
      "Gini(Age=Adulte) = 0.4444444444444444\n",
      "Gini(Age=Jeune) = 0.5\n",
      "Gini(Age=Senior) = 0.0\n"
     ]
    }
   ],
   "source": [
    "# Calculez et affichez tous les indices de Gini pour chaque valeur possible \n",
    "# de l'attribut 'Age' en utilisant la fonction Gini_attribut_valeur\n",
    "\n",
    "for valeur in np.unique(X[:, df.columns.get_loc(\"Age\")]):\n",
    "    print(f\"Gini(Age={valeur}) = {Gini_attribut_valeur(X, 'Age', valeur)}\")"
   ]
  },
  {
   "cell_type": "code",
   "execution_count": null,
   "id": "63365730",
   "metadata": {},
   "outputs": [
    {
     "data": {
      "text/plain": [
       "0.33333333333333337"
      ]
     },
     "execution_count": 14,
     "metadata": {},
     "output_type": "execute_result"
    }
   ],
   "source": [
    "#  Implémentez une fonction Gini(X, y, attribut) qui calcule l'indice de Gini pour un attribut spécifique en utilisant\n",
    "#  la fonction Gini_attribut_valeur pour chaque valeur de cet attribut\n",
    "\n",
    "\n",
    "def Gini(X,y, attribut):\n",
    "    idx = df.columns.get_loc(attribut)\n",
    "    gini = 0\n",
    "    for valeur in np.unique(X[:, idx]):\n",
    "        mask = X[:, idx] == valeur\n",
    "        gini += np.sum(mask) / len(y) * Gini_attribut_valeur(X, attribut, valeur)\n",
    "    return gini\n",
    "\n",
    "Gini(X,y,\"Age\")   # affiche  0.333"
   ]
  },
  {
   "cell_type": "code",
   "execution_count": 15,
   "id": "c4f2b4e6",
   "metadata": {},
   "outputs": [
    {
     "name": "stdout",
     "output_type": "stream",
     "text": [
      "Gini(Age) = 0.33333333333333337\n",
      "Gini(Revenu) = 0.13333333333333333\n",
      "Gini(Etudiant) = 0.26666666666666666\n",
      "Gini(Credit) = 0.48\n"
     ]
    }
   ],
   "source": [
    "# Calculez et affichez les indices de Gini pour tous les attributs de \n",
    "# la matrice X en utilisant la fonction Gini(X, y, attribut)\n",
    "\n",
    "for attribut in df.columns[:-1]:\n",
    "    print(f\"Gini({attribut}) = {Gini(X, y, attribut)}\")"
   ]
  },
  {
   "cell_type": "code",
   "execution_count": null,
   "id": "c63d6996",
   "metadata": {},
   "outputs": [
    {
     "name": "stdout",
     "output_type": "stream",
     "text": [
      "Gains Entropiques:\n",
      "Age: 0.2954618442383218\n",
      "Revenu: 0.6954618442383218\n",
      "Etudiant: 0.4199730940219749\n",
      "Credit: 0.0\n",
      "\n",
      "Indices de Gini:\n",
      "Age: 0.33333333333333337\n",
      "Revenu: 0.13333333333333333\n",
      "Etudiant: 0.26666666666666666\n",
      "Credit: 0.48\n",
      "\n",
      "L'attribut le plus informatif selon le gain entropique est: Revenu\n",
      "L'attribut le plus informatif selon l'indice de Gini est: Revenu\n"
     ]
    }
   ],
   "source": [
    "# Déterminez et affichez l'attribut le plus informatif en comparant les indices de Gini et les gains entropiques\n",
    "# calculés pour chaque attribut\n",
    "gains_entropiques = {attribut: GainEntropique(X, y, attribut) for attribut in df.columns[:-1]}\n",
    "indices_gini = {attribut: Gini(X, y, attribut) for attribut in df.columns[:-1]}\n",
    "\n",
    "print(\"Gains Entropiques:\")\n",
    "for attribut, gain in gains_entropiques.items():\n",
    "    print(f\"{attribut}: {gain}\")\n",
    "\n",
    "print(\"\\nIndices de Gini:\")\n",
    "for attribut, gini in indices_gini.items():\n",
    "    print(f\"{attribut}: {gini}\")\n",
    "\n",
    "attribut_plus_informatif_entropie = max(gains_entropiques, key=gains_entropiques.get)\n",
    "attribut_plus_informatif_gini = min(indices_gini, key=indices_gini.get)\n",
    "\n",
    "print(f\"\\nL'attribut le plus informatif selon le gain entropique est: {attribut_plus_informatif_entropie}\")\n",
    "print(f\"L'attribut le plus informatif selon l'indice de Gini est: {attribut_plus_informatif_gini}\")\n"
   ]
  }
 ],
 "metadata": {
  "kernelspec": {
   "display_name": "base",
   "language": "python",
   "name": "python3"
  },
  "language_info": {
   "codemirror_mode": {
    "name": "ipython",
    "version": 3
   },
   "file_extension": ".py",
   "mimetype": "text/x-python",
   "name": "python",
   "nbconvert_exporter": "python",
   "pygments_lexer": "ipython3",
   "version": "3.12.7"
  }
 },
 "nbformat": 4,
 "nbformat_minor": 5
}
