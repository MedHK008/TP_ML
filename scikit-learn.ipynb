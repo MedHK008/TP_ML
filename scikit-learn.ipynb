{
 "cells": [
  {
   "cell_type": "code",
   "execution_count": 18,
   "metadata": {},
   "outputs": [],
   "source": [
    "from sklearn.datasets import load_iris\n",
    "from sklearn.tree import DecisionTreeClassifier, export_text, plot_tree\n",
    "from sklearn.model_selection import train_test_split\n",
    "from sklearn.metrics import accuracy_score, confusion_matrix, precision_score, recall_score, f1_score, classification_report\n",
    "import pandas as pd\n",
    "import matplotlib.pyplot as plt"
   ]
  },
  {
   "cell_type": "code",
   "execution_count": 19,
   "metadata": {},
   "outputs": [
    {
     "name": "stdout",
     "output_type": "stream",
     "text": []
    }
   ],
   "source": [
    "iris = load_iris()\n",
    "iris.data.shape"
   ]
  },
  {
   "cell_type": "code",
   "execution_count": 20,
   "metadata": {},
   "outputs": [
    {
     "name": "stdout",
     "output_type": "stream",
     "text": []
    }
   ],
   "source": [
    "print(\"features names: \", iris.feature_names)\n",
    "print(\"target names: \", iris.target_names)"
   ]
  },
  {
   "cell_type": "code",
   "execution_count": 21,
   "metadata": {},
   "outputs": [
    {
     "name": "stdout",
     "output_type": "stream",
     "text": []
    }
   ],
   "source": [
    "x = iris.data\n",
    "\n",
    "y = iris.target\n",
    "\n",
    "print(x)\n",
    "\n",
    "print(y)"
   ]
  },
  {
   "cell_type": "markdown",
   "metadata": {},
   "source": []
  },
  {
   "cell_type": "code",
   "execution_count": 22,
   "metadata": {},
   "outputs": [],
   "source": [
    "x_train, x_test, y_train, y_test = train_test_split(x, y, test_size=0.3, random_state=42,shuffle=True, stratify=y)"
   ]
  },
  {
   "cell_type": "code",
   "execution_count": 23,
   "metadata": {},
   "outputs": [
    {
     "name": "stdout",
     "output_type": "stream",
     "text": []
    }
   ],
   "source": [
    "print(x_train.shape)\n",
    "print(x_test.shape)\n",
    "\n",
    "print(y_train.shape)\n",
    "print(y_test.shape)"
   ]
  },
  {
   "cell_type": "code",
   "execution_count": 24,
   "metadata": {},
   "outputs": [
    {
     "name": "stdout",
     "output_type": "stream",
     "text": []
    }
   ],
   "source": [
    "clf_gini = DecisionTreeClassifier(criterion='gini', random_state=42)\n",
    "clf_gini.fit(x_train, y_train)"
   ]
  },
  {
   "cell_type": "code",
   "execution_count": 25,
   "metadata": {},
   "outputs": [
    {
     "name": "stdout",
     "output_type": "stream",
     "text": []
    }
   ],
   "source": [
    "clf_entropy = DecisionTreeClassifier(criterion='entropy', random_state=42)\n",
    "clf_entropy.fit(x_train, y_train)"
   ]
  },
  {
   "cell_type": "code",
   "execution_count": 26,
   "metadata": {},
   "outputs": [
    {
     "name": "stdout",
     "output_type": "stream",
     "text": []
    }
   ],
   "source": [
    "\n",
    "prediction = clf_gini.predict(x_test)\n",
    "\n",
    "results_gini = pd.DataFrame()\n",
    "results_gini['Prediction'] = prediction\n",
    "results_gini['Actual'] = y_test\n",
    "\n",
    "# print(results_gini)\n",
    "\n",
    "print(\"Accuracy: \", accuracy_score(y_test, prediction))\n",
    "print(\"Confusion matrix: \", confusion_matrix(y_test, prediction))\n",
    "print(\"Precision: \", precision_score(y_test, prediction, average='weighted'))\n",
    "print(\"Recall: \", recall_score(y_test, prediction, average='weighted'))\n",
    "print(\"F1 Score: \", f1_score(y_test, prediction, average='weighted'))\n",
    "print(\"Classification Report: \\n\", classification_report(y_test, prediction))\n",
    "\n"
   ]
  },
  {
   "cell_type": "code",
   "execution_count": 27,
   "metadata": {},
   "outputs": [
    {
     "name": "stdout",
     "output_type": "stream",
     "text": []
    }
   ],
   "source": [
    "prediction = clf_entropy.predict(x_test)\n",
    "\n",
    "results_enteropy = pd.DataFrame()\n",
    "results_enteropy['Prediction'] = prediction\n",
    "results_enteropy['Actual'] = y_test\n",
    "\n",
    "# print(results_enteropy)\n",
    "\n",
    "print(\"Accuracy: \", accuracy_score(y_test, prediction))\n",
    "print(\"Confusion matrix: \", confusion_matrix(y_test, prediction))\n",
    "print(\"Precision: \", precision_score(y_test, prediction, average='weighted'))\n",
    "print(\"Recall: \", recall_score(y_test, prediction, average='weighted'))\n",
    "print(\"F1 Score: \", f1_score(y_test, prediction, average='weighted'))\n",
    "print(\"Classification Report: \\n \", classification_report(y_test, prediction))\n"
   ]
  },
  {
   "cell_type": "code",
   "execution_count": 28,
   "metadata": {},
   "outputs": [
    {
     "name": "stdout",
     "output_type": "stream",
     "text": []
    }
   ],
   "source": [
    "tree_rules_gini = export_text(clf_gini, feature_names=iris['feature_names'])\n",
    "print(tree_rules_gini)"
   ]
  },
  {
   "cell_type": "code",
   "execution_count": 29,
   "metadata": {},
   "outputs": [
    {
     "name": "stdout",
     "output_type": "stream",
     "text": []
    }
   ],
   "source": [
    "tree_rules_entropy = export_text(clf_entropy, feature_names=iris['feature_names'])  \n",
    "print(tree_rules_entropy)"
   ]
  },
  {
   "cell_type": "code",
   "execution_count": 30,
   "metadata": {},
   "outputs": [
    {
     "name": "stdout",
     "output_type": "stream",
     "text": []
    }
   ],
   "source": [
    "gini_tree = plot_tree(clf_gini, feature_names=iris.feature_names, class_names=iris.target_names, filled=True)\n",
    "plt.show()"
   ]
  },
  {
   "cell_type": "code",
   "execution_count": 31,
   "metadata": {},
   "outputs": [
    {
     "name": "stdout",
     "output_type": "stream",
     "text": []
    }
   ],
   "source": [
    "entropy_tree = plot_tree(clf_entropy, feature_names=iris.feature_names, class_names=iris.target_names, filled=True)\n",
    "plt.show()"
   ]
  }
 ],
 "metadata": {
  "kernelspec": {
   "display_name": "base",
   "language": "python",
   "name": "python3"
  },
  "language_info": {
   "codemirror_mode": {
    "name": "ipython",
    "version": 3
   },
   "file_extension": ".py",
   "mimetype": "text/x-python",
   "name": "python",
   "nbconvert_exporter": "python",
   "pygments_lexer": "ipython3",
   "version": "3.12.7"
  }
 },
 "nbformat": 4,
 "nbformat_minor": 2
}
